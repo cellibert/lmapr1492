{
 "cells": [
  {
   "cell_type": "markdown",
   "id": "0b55e9da",
   "metadata": {},
   "source": [
    "# Notebook Nr.03\n",
    "On nous demande d'étudier l’effet de 3 éléments de symétrie différents (pas l’identité) chacun pour 1 atome différent (outre les équations, il vous est demandé d'inclure des représentations sur base de jupyter-jsmol comme vu au cours."
   ]
  },
  {
   "cell_type": "code",
   "execution_count": 50,
   "id": "4750434e",
   "metadata": {},
   "outputs": [
    {
     "name": "stdout",
     "output_type": "stream",
     "text": [
      "\u001b[1m Formule du matériau assigné : \n",
      "\u001b[0m\n",
      "ScSbPt\n",
      "\u001b[1m\n",
      " Materials Project ID : \n",
      "\u001b[0m\n",
      "mp-7173\n",
      "\u001b[1m\n",
      "------------------------------------------------------------\n",
      "\u001b[0m\n"
     ]
    }
   ],
   "source": [
    "assigned_ID = \"mp-7173\"\n",
    "chemical_formula = \"ScSbPt\"\n",
    "\n",
    "beginBOLD = '\\033[1m' ; endBOLD = '\\033[0m'\n",
    "print(beginBOLD + \" Formule du matériau assigné : \\n\" + endBOLD) ; print(chemical_formula)\n",
    "print(beginBOLD + \"\\n Materials Project ID : \\n\" + endBOLD)      ; print(assigned_ID)\n",
    "print(beginBOLD + \"\\n------------------------------------------------------------\\n\" + endBOLD)"
   ]
  },
  {
   "cell_type": "code",
   "execution_count": 51,
   "id": "beebbccc",
   "metadata": {},
   "outputs": [],
   "source": [
    "from pymatgen.ext.matproj import MPRester\n",
    "from pymatgen.io.cif import CifWriter\n",
    "from pymatgen.symmetry.analyzer import SpacegroupAnalyzer\n",
    "\n",
    "from pymatgen.core.operations import SymmOp\n",
    "from IPython.display import Image\n",
    "from jupyter_jsmol.pymatgen import quick_view\n",
    "\n",
    "import numpy as np"
   ]
  },
  {
   "cell_type": "code",
   "execution_count": 52,
   "id": "c18733e6",
   "metadata": {},
   "outputs": [],
   "source": [
    "# ----------==========     Procédure de téléchargement du fichier .CIF assigné     ==========----------\n",
    "\n",
    "with MPRester(\"L41ZHCirMyRASy8QHJEO\") as myCristal:\n",
    "    \n",
    "    structure = myCristal.get_structure_by_material_id(assigned_ID)\n",
    "    \n",
    "    myCifWriter = CifWriter(structure)"
   ]
  },
  {
   "cell_type": "markdown",
   "id": "0fd73871",
   "metadata": {},
   "source": [
    "## 1. Premier élément de symétrie :\n"
   ]
  },
  {
   "cell_type": "code",
   "execution_count": 53,
   "id": "2ef5de52",
   "metadata": {},
   "outputs": [
    {
     "name": "stdout",
     "output_type": "stream",
     "text": [
      "Cette symmétrie est un plan miroir d'axe z. La matrice de l'opération de symétrie associée est donnée par :\n",
      "\n",
      "[[-1.  0.  0.]\n",
      " [ 0. -1.  0.]\n",
      " [ 0.  0.  1.]]\n"
     ]
    }
   ],
   "source": [
    "symmetry_1 = SymmOp.from_xyz_string('-x, -y, z')\n",
    "matrice_1  = symmetry_1.rotation_matrix\n",
    "\n",
    "print(\"Cette symmétrie est un plan miroir d'axe z. La matrice de l'opération de symétrie associée est donnée par :\\n\")\n",
    "print(matrice_1)"
   ]
  },
  {
   "cell_type": "code",
   "execution_count": 54,
   "id": "46a13597",
   "metadata": {},
   "outputs": [
    {
     "data": {
      "application/vnd.jupyter.widget-view+json": {
       "model_id": "633385322410470a85f6bb34b06855f0",
       "version_major": 2,
       "version_minor": 0
      },
      "text/plain": [
       "JsmolView(layout=Layout(align_self='stretch', height='400px'))"
      ]
     },
     "metadata": {},
     "output_type": "display_data"
    }
   ],
   "source": [
    "view = quick_view(structure) ; display(view)\n",
    "view.script('draw SYMOP 3')"
   ]
  },
  {
   "cell_type": "markdown",
   "id": "5619ab9e",
   "metadata": {},
   "source": [
    "Application de l'opérateur sur les coordonnées génériques (x,y,z) :\n",
    "\n",
    "$$\\begin{pmatrix} -1 & 0 & 0 \\\\ 0 & -1 & 0 \\\\ 0 & 0 & 1 \\end{pmatrix} \\begin{pmatrix} x \\\\ y \\\\ z \\end{pmatrix} = \\begin{pmatrix} -x \\\\ -y \\\\ z \\end{pmatrix}$$"
   ]
  },
  {
   "cell_type": "markdown",
   "id": "eec71fac",
   "metadata": {},
   "source": [
    "## 2. Deuxième élément de symétrie :"
   ]
  },
  {
   "cell_type": "code",
   "execution_count": 55,
   "id": "6f530ce2",
   "metadata": {},
   "outputs": [
    {
     "name": "stdout",
     "output_type": "stream",
     "text": [
      "Cette symmétrie renvoie les coordonnées x sur l'axe z et inversément.\n",
      "La matrice de l'opération de symétrie associée est donnée par :\n",
      "\n",
      "[[0. 0. 1.]\n",
      " [0. 1. 0.]\n",
      " [1. 0. 0.]]\n"
     ]
    }
   ],
   "source": [
    "symmetry_2 = SymmOp.from_xyz_string('z, y, x')\n",
    "matrice_2  = symmetry_2.rotation_matrix\n",
    "\n",
    "print(\"Cette symmétrie renvoie les coordonnées x sur l'axe z et inversément.\")\n",
    "print(\"La matrice de l'opération de symétrie associée est donnée par :\\n\")\n",
    "print(matrice_2)"
   ]
  },
  {
   "cell_type": "code",
   "execution_count": 56,
   "id": "798915b6",
   "metadata": {},
   "outputs": [
    {
     "data": {
      "application/vnd.jupyter.widget-view+json": {
       "model_id": "d49eada5b1cb4814a05af773978a75ca",
       "version_major": 2,
       "version_minor": 0
      },
      "text/plain": [
       "JsmolView(layout=Layout(align_self='stretch', height='400px'))"
      ]
     },
     "metadata": {},
     "output_type": "display_data"
    }
   ],
   "source": [
    "view = quick_view(structure) ; display(view)\n",
    "view.script('draw SYMOP 14')"
   ]
  },
  {
   "cell_type": "markdown",
   "id": "f30bbffc",
   "metadata": {},
   "source": [
    "Application de l'opérateur sur les coordonnées génériques (x,y,z) :\n",
    "\n",
    "$$\\begin{pmatrix} 0 & 0 & 1 \\\\ 0 & 1 & 0 \\\\ 1 & 0 & 0 \\end{pmatrix} \\begin{pmatrix} x \\\\ y \\\\ z \\end{pmatrix} = \\begin{pmatrix} z \\\\ y \\\\ x \\end{pmatrix}$$"
   ]
  },
  {
   "cell_type": "markdown",
   "id": "d84fc6c8",
   "metadata": {},
   "source": [
    "## 3. Troisième élément de symétrie :"
   ]
  },
  {
   "cell_type": "code",
   "execution_count": 57,
   "id": "a0ac4581",
   "metadata": {},
   "outputs": [
    {
     "name": "stdout",
     "output_type": "stream",
     "text": [
      "Cette symmétrie effectue une rotation autour de la droite [1 1 1].\n",
      "On observe également une translation de 0.5 sur les axes y et z.\n",
      "La matrice de l'opération de symétrie associée est donnée par :\n",
      "\n",
      "[[0. 1. 0.]\n",
      " [0. 0. 1.]\n",
      " [1. 0. 0.]]\n"
     ]
    }
   ],
   "source": [
    "symmetry_3 = SymmOp.from_xyz_string('y, z+1/2, x+1/2')\n",
    "matrice_3  = symmetry_3.rotation_matrix\n",
    "\n",
    "print(\"Cette symmétrie effectue une rotation autour de la droite [1 1 1].\")\n",
    "print(\"On observe également une translation de 0.5 sur les axes y et z.\")\n",
    "print(\"La matrice de l'opération de symétrie associée est donnée par :\\n\")\n",
    "print(matrice_3)"
   ]
  },
  {
   "cell_type": "code",
   "execution_count": 58,
   "id": "9aab9345",
   "metadata": {},
   "outputs": [
    {
     "data": {
      "application/vnd.jupyter.widget-view+json": {
       "model_id": "46f72a054ecb40039596d83204d72a72",
       "version_major": 2,
       "version_minor": 0
      },
      "text/plain": [
       "JsmolView(layout=Layout(align_self='stretch', height='400px'))"
      ]
     },
     "metadata": {},
     "output_type": "display_data"
    }
   ],
   "source": [
    "view = quick_view(structure) ; display(view)\n",
    "view.script('draw SYMOP 89')"
   ]
  },
  {
   "cell_type": "markdown",
   "id": "727d3d8a",
   "metadata": {},
   "source": [
    "Application de l'opérateur sur les coordonnées génériques (x,y,z) :\n",
    "\n",
    "$$\\begin{pmatrix} 0 & 1 & 0 \\\\ 0 & 0 & 1 \\\\ 1 & 0 & 0 \\end{pmatrix} \\begin{pmatrix} x \\\\ y \\\\ z \\end{pmatrix} = \\begin{pmatrix} y \\\\ z \\\\ x \\end{pmatrix}$$"
   ]
  }
 ],
 "metadata": {
  "kernelspec": {
   "display_name": "Python 3",
   "language": "python",
   "name": "python3"
  },
  "language_info": {
   "codemirror_mode": {
    "name": "ipython",
    "version": 3
   },
   "file_extension": ".py",
   "mimetype": "text/x-python",
   "name": "python",
   "nbconvert_exporter": "python",
   "pygments_lexer": "ipython3",
   "version": "3.6.8"
  }
 },
 "nbformat": 4,
 "nbformat_minor": 5
}
