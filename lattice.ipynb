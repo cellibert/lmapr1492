{
 "cells": [
  {
   "cell_type": "code",
   "execution_count": 1,
   "id": "4c551da6",
   "metadata": {},
   "outputs": [],
   "source": [
    "from pymatgen.ext.matproj import MPRester\n",
    "from pymatgen.io.cif import CifWriter\n",
    "from pymatgen.symmetry.analyzer import SpacegroupAnalyzer"
   ]
  },
  {
   "cell_type": "code",
   "execution_count": 7,
   "id": "98ab0b2c",
   "metadata": {},
   "outputs": [],
   "source": [
    "# ----------==========     Procédure de téléchargement du fichier .CIF assigné     ==========----------\n",
    "\n",
    "assigned_ID = \"mp-7173\"\n",
    "chemical_formula = \"ScSbPt\"\n",
    "\n",
    "with MPRester(\"L41ZHCirMyRASy8QHJEO\") as myCristal:\n",
    "    \n",
    "    structure = myCristal.get_structure_by_material_id(assigned_ID)\n",
    "    \n",
    "    myCifWriter = CifWriter(structure)"
   ]
  },
  {
   "cell_type": "code",
   "execution_count": 12,
   "id": "f845f3e0",
   "metadata": {},
   "outputs": [],
   "source": [
    "# ----------==========     Détermination des caractéristiques du matériau assigné     ==========----------\n",
    "\n",
    "material = SpacegroupAnalyzer(structure)\n",
    "\n",
    "vDirect = structure.lattice\n",
    "vReciproque = structure.lattice.reciprocal_lattice\n",
    "\n",
    "typeMaille = material.get_lattice_type()\n",
    "systeme_cristallin = material.get_crystal_system()\n",
    "groupe_ponctuel = material.get_point_group_symbol()"
   ]
  },
  {
   "cell_type": "code",
   "execution_count": 13,
   "id": "cbe48737",
   "metadata": {},
   "outputs": [
    {
     "name": "stdout",
     "output_type": "stream",
     "text": [
      "\u001b[1m----------==========  NOTEBOOK Nr.2  ==========----------\n",
      "\u001b[0m\n",
      "\u001b[1m Formule du matériau assigné : \n",
      "\u001b[0m\n",
      "ScSbPt\n",
      "\u001b[1m\n",
      " Materials Project ID : \n",
      "\u001b[0m\n",
      "mp-7173\n",
      "\u001b[1m\n",
      "------------------------------------------------------------\n",
      "\u001b[0m\n",
      "\u001b[1m Vecteurs de bases du réseau direct : \n",
      "\u001b[0m\n",
      "0.000000 3.196357 3.196357\n",
      "3.196357 0.000000 3.196357\n",
      "3.196357 3.196357 0.000000\n",
      "\u001b[1m\n",
      " Vecteurs de bases du réseau réciproque : \n",
      "\u001b[0m\n",
      "-0.982867 0.982867 0.982867\n",
      "0.982867 -0.982867 0.982867\n",
      "0.982867 0.982867 -0.982867\n",
      "\u001b[1m\n",
      "------------------------------------------------------------\n",
      "\u001b[0m\n",
      "\u001b[1m Système cristallin : \u001b[0m\n",
      "cubic\n",
      "\u001b[1m\n",
      " Groupe ponctuel : \u001b[0m\n",
      "-43m\n",
      "\u001b[1m----------==========  FIN DE PROCÉDURE  ==========----------\n",
      "\u001b[0m\n"
     ]
    }
   ],
   "source": [
    "beginBOLD = '\\033[1m' ; endBOLD = '\\033[0m'\n",
    "\n",
    "# ----------==========     Affichage des résultats demandés     ==========----------\n",
    "\n",
    "print(beginBOLD + \"----------==========  NOTEBOOK Nr.2  ==========----------\\n\" + endBOLD)\n",
    "print(beginBOLD + \" Formule du matériau assigné : \\n\" + endBOLD) ; print(chemical_formula)\n",
    "print(beginBOLD + \"\\n Materials Project ID : \\n\" + endBOLD)      ; print(assigned_ID)\n",
    "print(beginBOLD + \"\\n------------------------------------------------------------\\n\" + endBOLD)\n",
    "\n",
    "print(beginBOLD + \" Vecteurs de bases du réseau direct : \\n\" + endBOLD)       ; print(vDirect)\n",
    "print(beginBOLD + \"\\n Vecteurs de bases du réseau réciproque : \\n\" + endBOLD) ; print(vReciproque)\n",
    "print(beginBOLD + \"\\n------------------------------------------------------------\\n\" + endBOLD)\n",
    "\n",
    "print(beginBOLD + \" Système cristallin : \" + endBOLD) ; print(systeme_cristallin)\n",
    "print(beginBOLD + \"\\n Groupe ponctuel : \" + endBOLD)  ; print(groupe_ponctuel)\n",
    "print(beginBOLD + \"----------==========  FIN DE PROCÉDURE  ==========----------\\n\" + endBOLD)\n",
    "\n",
    "# ----------=========================        Fin de procédure        =========================----------"
   ]
  }
 ],
 "metadata": {
  "kernelspec": {
   "display_name": "Python 3",
   "language": "python",
   "name": "python3"
  },
  "language_info": {
   "codemirror_mode": {
    "name": "ipython",
    "version": 3
   },
   "file_extension": ".py",
   "mimetype": "text/x-python",
   "name": "python",
   "nbconvert_exporter": "python",
   "pygments_lexer": "ipython3",
   "version": "3.6.8"
  }
 },
 "nbformat": 4,
 "nbformat_minor": 5
}
