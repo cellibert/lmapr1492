{
 "cells": [
  {
   "cell_type": "code",
   "execution_count": 1,
   "id": "1013b918",
   "metadata": {},
   "outputs": [],
   "source": [
    "from pymatgen.ext.matproj import MPRester\n",
    "from pymatgen.io.cif import CifWriter"
   ]
  },
  {
   "cell_type": "code",
   "execution_count": 2,
   "id": "47b1c25a",
   "metadata": {},
   "outputs": [],
   "source": [
    "# ----------==========     Procédure de téléchargement du fichier .CIF assigné     ==========----------\n",
    "\n",
    "assigned_ID = \"mp-7173\"\n",
    "\n",
    "with MPRester(\"L41ZHCirMyRASy8QHJEO\") as myCristal:\n",
    "    \n",
    "    structure = myCristal.get_structure_by_material_id(assigned_ID)\n",
    "    \n",
    "    myCifWriter = CifWriter(structure) ; myCifWriter.write_file('ScSbPt_mp-7173.cif')\n",
    "    \n",
    "# ----------=========================        Fin de procédure        =========================----------"
   ]
  },
  {
   "cell_type": "code",
   "execution_count": null,
   "id": "e908bae4",
   "metadata": {},
   "outputs": [],
   "source": []
  }
 ],
 "metadata": {
  "kernelspec": {
   "display_name": "Python 3",
   "language": "python",
   "name": "python3"
  },
  "language_info": {
   "codemirror_mode": {
    "name": "ipython",
    "version": 3
   },
   "file_extension": ".py",
   "mimetype": "text/x-python",
   "name": "python",
   "nbconvert_exporter": "python",
   "pygments_lexer": "ipython3",
   "version": "3.6.8"
  }
 },
 "nbformat": 4,
 "nbformat_minor": 5
}
